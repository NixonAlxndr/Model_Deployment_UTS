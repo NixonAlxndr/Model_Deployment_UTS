{
 "cells": [
  {
   "cell_type": "markdown",
   "id": "0cd1e5bc",
   "metadata": {},
   "source": [
    "# Dataset 2B Hotel"
   ]
  },
  {
   "cell_type": "markdown",
   "id": "5624f49a",
   "metadata": {},
   "source": [
    "Nama: Nixon\\\n",
    "NIM: 2702248420"
   ]
  },
  {
   "cell_type": "code",
   "execution_count": 1,
   "id": "cdb923b0",
   "metadata": {},
   "outputs": [],
   "source": [
    "import pandas as pd\n",
    "from scipy.stats import skew\n",
    "import matplotlib.pyplot as plt\n",
    "import seaborn as sns\n",
    "from sklearn.preprocessing import RobustScaler\n",
    "from sklearn.model_selection import train_test_split\n",
    "from sklearn.ensemble import RandomForestClassifier\n",
    "from xgboost import XGBClassifier\n",
    "from sklearn.metrics import accuracy_score, classification_report, confusion_matrix\n",
    "import pickle\n",
    "import streamlit as st"
   ]
  },
  {
   "cell_type": "markdown",
   "id": "b11510fd",
   "metadata": {},
   "source": [
    "##### Global Function"
   ]
  },
  {
   "cell_type": "code",
   "execution_count": 2,
   "id": "128e8e92",
   "metadata": {},
   "outputs": [],
   "source": [
    "def CheckNull(df, columnName):\n",
    "     print(columnName, \": \", df[columnName].isnull().sum())\n",
    "\n",
    "def CheckSkewness(df, columnName):\n",
    "     skewness = df[columnName].skew()\n",
    "     print(f\"Skewness: {skewness}\")\n",
    "     if skewness > 0:\n",
    "          print(\"Distribusi miring ke kanan (positif)\")\n",
    "     elif skewness < 0:\n",
    "          print(\"Distribusi miring ke kiri (negatif)\")\n",
    "     else:\n",
    "          print(\"Distribusi simetris / normal\")\n",
    "\n",
    "def CheckOutlier(df, numerical_cols):\n",
    "     plt.figure(figsize=(15, 6))\n",
    "\n",
    "     sns.boxplot(data=df[numerical_cols], orient='h')\n",
    "\n",
    "     plt.title('Boxplot untuk Semua Kolom Numerik')\n",
    "     plt.xlabel('Nilai')\n",
    "     plt.tight_layout()\n",
    "     plt.show()"
   ]
  },
  {
   "cell_type": "markdown",
   "id": "3a252972",
   "metadata": {},
   "source": [
    "### EDA"
   ]
  },
  {
   "cell_type": "code",
   "execution_count": 3,
   "id": "0ef920d1",
   "metadata": {},
   "outputs": [
    {
     "name": "stdout",
     "output_type": "stream",
     "text": [
      "<class 'pandas.core.frame.DataFrame'>\n",
      "RangeIndex: 36275 entries, 0 to 36274\n",
      "Data columns (total 19 columns):\n",
      " #   Column                                Non-Null Count  Dtype  \n",
      "---  ------                                --------------  -----  \n",
      " 0   Booking_ID                            36275 non-null  object \n",
      " 1   no_of_adults                          36275 non-null  int64  \n",
      " 2   no_of_children                        36275 non-null  int64  \n",
      " 3   no_of_weekend_nights                  36275 non-null  int64  \n",
      " 4   no_of_week_nights                     36275 non-null  int64  \n",
      " 5   type_of_meal_plan                     35368 non-null  object \n",
      " 6   required_car_parking_space            35005 non-null  float64\n",
      " 7   room_type_reserved                    36275 non-null  object \n",
      " 8   lead_time                             36275 non-null  int64  \n",
      " 9   arrival_year                          36275 non-null  int64  \n",
      " 10  arrival_month                         36275 non-null  int64  \n",
      " 11  arrival_date                          36275 non-null  int64  \n",
      " 12  market_segment_type                   36275 non-null  object \n",
      " 13  repeated_guest                        36275 non-null  int64  \n",
      " 14  no_of_previous_cancellations          36275 non-null  int64  \n",
      " 15  no_of_previous_bookings_not_canceled  36275 non-null  int64  \n",
      " 16  avg_price_per_room                    34643 non-null  float64\n",
      " 17  no_of_special_requests                36275 non-null  int64  \n",
      " 18  booking_status                        36275 non-null  object \n",
      "dtypes: float64(2), int64(12), object(5)\n",
      "memory usage: 5.3+ MB\n"
     ]
    }
   ],
   "source": [
    "df = pd.read_csv(\"Dataset_B_hotel.csv\")\n",
    "df.info()"
   ]
  },
  {
   "cell_type": "code",
   "execution_count": 4,
   "id": "cc9ae151",
   "metadata": {},
   "outputs": [
    {
     "name": "stdout",
     "output_type": "stream",
     "text": [
      "Booking_ID :  0\n",
      "no_of_adults :  0\n",
      "no_of_children :  0\n",
      "no_of_weekend_nights :  0\n",
      "no_of_week_nights :  0\n",
      "type_of_meal_plan :  907\n",
      "required_car_parking_space :  1270\n",
      "room_type_reserved :  0\n",
      "lead_time :  0\n",
      "arrival_year :  0\n",
      "arrival_month :  0\n",
      "arrival_date :  0\n",
      "market_segment_type :  0\n",
      "repeated_guest :  0\n",
      "no_of_previous_cancellations :  0\n",
      "no_of_previous_bookings_not_canceled :  0\n",
      "avg_price_per_room :  1632\n",
      "no_of_special_requests :  0\n",
      "booking_status :  0\n"
     ]
    }
   ],
   "source": [
    "for i in list(df.columns):\n",
    "    CheckNull(df, i)"
   ]
  },
  {
   "cell_type": "markdown",
   "id": "62c33ed9",
   "metadata": {},
   "source": [
    "Jika kita melihat hasil dari 'df', maka kita bisa melihat bahwa ada beberapa column yang berisi nilai null, seperti 'type_of_meal_plan', 'required_car_parking_space', dan 'avg_price_per_rroom'"
   ]
  },
  {
   "cell_type": "markdown",
   "id": "b07f37a4",
   "metadata": {},
   "source": [
    "#### NULL Handling"
   ]
  },
  {
   "cell_type": "markdown",
   "id": "0628f07b",
   "metadata": {},
   "source": [
    "#### a. type_of_meal_plan"
   ]
  },
  {
   "cell_type": "code",
   "execution_count": 5,
   "id": "44649ad6",
   "metadata": {},
   "outputs": [
    {
     "data": {
      "text/plain": [
       "array(['Meal Plan 1', 'Not Selected', 'Meal Plan 2', nan, 'Meal Plan 3'],\n",
       "      dtype=object)"
      ]
     },
     "execution_count": 5,
     "metadata": {},
     "output_type": "execute_result"
    }
   ],
   "source": [
    "df['type_of_meal_plan'].unique()"
   ]
  },
  {
   "cell_type": "markdown",
   "id": "c7484c37",
   "metadata": {},
   "source": [
    "Dalam 'type_of_meal_plan', terdapat column yang berisi 'Not selected', kita bisa saja mengisi nilai NULL sesuai dengan mean atau modus, tapi karena kolom ini bersifat categorical, dan secara logika mereka yang tidak mengisi kolom itu kemungkinan besar tidak memesan meal nya, maka lebih baik kita mengisi nya dengan 'Not selected'"
   ]
  },
  {
   "cell_type": "code",
   "execution_count": 6,
   "id": "5fa00e64",
   "metadata": {},
   "outputs": [],
   "source": [
    "df['type_of_meal_plan'] = df['type_of_meal_plan'].fillna('Not Selected')"
   ]
  },
  {
   "cell_type": "code",
   "execution_count": 7,
   "id": "99bfe2ba",
   "metadata": {},
   "outputs": [
    {
     "name": "stdout",
     "output_type": "stream",
     "text": [
      "type_of_meal_plan :  0\n"
     ]
    }
   ],
   "source": [
    "CheckNull(df, 'type_of_meal_plan')"
   ]
  },
  {
   "cell_type": "markdown",
   "id": "ffcb7f52",
   "metadata": {},
   "source": [
    "#### b. required_car_parking_space"
   ]
  },
  {
   "cell_type": "code",
   "execution_count": 8,
   "id": "28d5ef95",
   "metadata": {},
   "outputs": [
    {
     "data": {
      "text/plain": [
       "array([ 0., nan,  1.])"
      ]
     },
     "execution_count": 8,
     "metadata": {},
     "output_type": "execute_result"
    }
   ],
   "source": [
    "df['required_car_parking_space'].unique()"
   ]
  },
  {
   "cell_type": "markdown",
   "id": "b93b7e6a",
   "metadata": {},
   "source": [
    "'required_car_parking_space' adalah kolom yang menjelaskan apakah pelanggan membutuhkan tempat parkir, jika '0' artinya tidak, jika '1' artinya iya, maka dari itu nilai NULL bisa kita ubah ke dalam '0' karena kemungkinan mereka yang bernilai NULL tidak membutuhkan tempat parkir"
   ]
  },
  {
   "cell_type": "code",
   "execution_count": 9,
   "id": "86bcac86",
   "metadata": {},
   "outputs": [],
   "source": [
    "df['required_car_parking_space'] = df['required_car_parking_space'].fillna(0)"
   ]
  },
  {
   "cell_type": "code",
   "execution_count": 10,
   "id": "e6e49789",
   "metadata": {},
   "outputs": [
    {
     "name": "stdout",
     "output_type": "stream",
     "text": [
      "required_car_parking_space :  0\n"
     ]
    }
   ],
   "source": [
    "CheckNull(df, 'required_car_parking_space')"
   ]
  },
  {
   "cell_type": "markdown",
   "id": "225e3889",
   "metadata": {},
   "source": [
    "#### c. avg_price_per_room"
   ]
  },
  {
   "cell_type": "code",
   "execution_count": 11,
   "id": "d0fad32a",
   "metadata": {},
   "outputs": [
    {
     "data": {
      "text/plain": [
       "array([ 65.  , 106.68,  60.  , ..., 118.43, 137.25, 167.8 ])"
      ]
     },
     "execution_count": 11,
     "metadata": {},
     "output_type": "execute_result"
    }
   ],
   "source": [
    "df['avg_price_per_room'].unique()"
   ]
  },
  {
   "cell_type": "code",
   "execution_count": 12,
   "id": "1e3d721f",
   "metadata": {},
   "outputs": [
    {
     "name": "stdout",
     "output_type": "stream",
     "text": [
      "Skewness: 0.6654046613647858\n",
      "Distribusi miring ke kanan (positif)\n"
     ]
    }
   ],
   "source": [
    "CheckSkewness(df, 'avg_price_per_room')"
   ]
  },
  {
   "cell_type": "code",
   "execution_count": 13,
   "id": "ec4791fe",
   "metadata": {},
   "outputs": [],
   "source": [
    "df['avg_price_per_room'] = df['avg_price_per_room'].fillna(df['avg_price_per_room'].median())"
   ]
  },
  {
   "cell_type": "markdown",
   "id": "1b9040c9",
   "metadata": {},
   "source": [
    "Karena kita melihat datanya ada skewness, maka kita bisa menggunakan median untuk mengisi nilai NA nya"
   ]
  },
  {
   "cell_type": "code",
   "execution_count": 14,
   "id": "3a3ed19e",
   "metadata": {},
   "outputs": [
    {
     "name": "stdout",
     "output_type": "stream",
     "text": [
      "avg_price_per_room :  0\n"
     ]
    }
   ],
   "source": [
    "CheckNull(df, 'avg_price_per_room')"
   ]
  },
  {
   "cell_type": "code",
   "execution_count": 15,
   "id": "ddcd6df8",
   "metadata": {},
   "outputs": [
    {
     "name": "stdout",
     "output_type": "stream",
     "text": [
      "<class 'pandas.core.frame.DataFrame'>\n",
      "RangeIndex: 36275 entries, 0 to 36274\n",
      "Data columns (total 19 columns):\n",
      " #   Column                                Non-Null Count  Dtype  \n",
      "---  ------                                --------------  -----  \n",
      " 0   Booking_ID                            36275 non-null  object \n",
      " 1   no_of_adults                          36275 non-null  int64  \n",
      " 2   no_of_children                        36275 non-null  int64  \n",
      " 3   no_of_weekend_nights                  36275 non-null  int64  \n",
      " 4   no_of_week_nights                     36275 non-null  int64  \n",
      " 5   type_of_meal_plan                     36275 non-null  object \n",
      " 6   required_car_parking_space            36275 non-null  float64\n",
      " 7   room_type_reserved                    36275 non-null  object \n",
      " 8   lead_time                             36275 non-null  int64  \n",
      " 9   arrival_year                          36275 non-null  int64  \n",
      " 10  arrival_month                         36275 non-null  int64  \n",
      " 11  arrival_date                          36275 non-null  int64  \n",
      " 12  market_segment_type                   36275 non-null  object \n",
      " 13  repeated_guest                        36275 non-null  int64  \n",
      " 14  no_of_previous_cancellations          36275 non-null  int64  \n",
      " 15  no_of_previous_bookings_not_canceled  36275 non-null  int64  \n",
      " 16  avg_price_per_room                    36275 non-null  float64\n",
      " 17  no_of_special_requests                36275 non-null  int64  \n",
      " 18  booking_status                        36275 non-null  object \n",
      "dtypes: float64(2), int64(12), object(5)\n",
      "memory usage: 5.3+ MB\n"
     ]
    }
   ],
   "source": [
    "df.info()"
   ]
  },
  {
   "cell_type": "markdown",
   "id": "65044ac1",
   "metadata": {},
   "source": [
    "Semua data sudah tidak ada yang isi nya null lagi"
   ]
  },
  {
   "cell_type": "markdown",
   "id": "af6a9319",
   "metadata": {},
   "source": [
    "#### Outlier Check"
   ]
  },
  {
   "cell_type": "code",
   "execution_count": 16,
   "id": "c23307a2",
   "metadata": {},
   "outputs": [
    {
     "data": {
      "image/png": "[encoded data removed]",
      "text/plain": [
       "<Figure size 1500x600 with 1 Axes>"
      ]
     },
     "metadata": {},
     "output_type": "display_data"
    }
   ],
   "source": [
    "numerical_cols = df.select_dtypes(include=['number']).columns\n",
    "\n",
    "CheckOutlier(df, numerical_cols)"
   ]
  },
  {
   "cell_type": "code",
   "execution_count": 17,
   "id": "0063c9f4",
   "metadata": {},
   "outputs": [],
   "source": [
    "scaler = RobustScaler()\n",
    "df[numerical_cols] = scaler.fit_transform(df[numerical_cols])"
   ]
  },
  {
   "cell_type": "markdown",
   "id": "61ce1f16",
   "metadata": {},
   "source": [
    "Karena semua nilai yang outlier adalah data yang digunakan, maka kita tidak bisa menghapus semua nilai outlier, maka dari itu kita bisa meng-handle nya dengan scaling, menggunakan RoubustScaler"
   ]
  },
  {
   "cell_type": "code",
   "execution_count": 18,
   "id": "4ef2b492",
   "metadata": {},
   "outputs": [
    {
     "data": {
      "image/png": "[encoded data removed]",
      "text/plain": [
       "<Figure size 1500x600 with 1 Axes>"
      ]
     },
     "metadata": {},
     "output_type": "display_data"
    }
   ],
   "source": [
    "CheckOutlier(df, numerical_cols)"
   ]
  },
  {
   "cell_type": "markdown",
   "id": "7fb62c7a",
   "metadata": {},
   "source": [
    "#### Encoding"
   ]
  },
  {
   "cell_type": "code",
   "execution_count": 19,
   "id": "a80039d7",
   "metadata": {},
   "outputs": [
    {
     "name": "stdout",
     "output_type": "stream",
     "text": [
      "<class 'pandas.core.frame.DataFrame'>\n",
      "RangeIndex: 36275 entries, 0 to 36274\n",
      "Data columns (total 19 columns):\n",
      " #   Column                                Non-Null Count  Dtype  \n",
      "---  ------                                --------------  -----  \n",
      " 0   Booking_ID                            36275 non-null  object \n",
      " 1   no_of_adults                          36275 non-null  float64\n",
      " 2   no_of_children                        36275 non-null  float64\n",
      " 3   no_of_weekend_nights                  36275 non-null  float64\n",
      " 4   no_of_week_nights                     36275 non-null  float64\n",
      " 5   type_of_meal_plan                     36275 non-null  object \n",
      " 6   required_car_parking_space            36275 non-null  float64\n",
      " 7   room_type_reserved                    36275 non-null  object \n",
      " 8   lead_time                             36275 non-null  float64\n",
      " 9   arrival_year                          36275 non-null  float64\n",
      " 10  arrival_month                         36275 non-null  float64\n",
      " 11  arrival_date                          36275 non-null  float64\n",
      " 12  market_segment_type                   36275 non-null  object \n",
      " 13  repeated_guest                        36275 non-null  float64\n",
      " 14  no_of_previous_cancellations          36275 non-null  float64\n",
      " 15  no_of_previous_bookings_not_canceled  36275 non-null  float64\n",
      " 16  avg_price_per_room                    36275 non-null  float64\n",
      " 17  no_of_special_requests                36275 non-null  float64\n",
      " 18  booking_status                        36275 non-null  object \n",
      "dtypes: float64(14), object(5)\n",
      "memory usage: 5.3+ MB\n"
     ]
    }
   ],
   "source": [
    "df.info()"
   ]
  },
  {
   "cell_type": "markdown",
   "id": "03d2d9dd",
   "metadata": {},
   "source": [
    "##### a. type_of_meal_plan"
   ]
  },
  {
   "cell_type": "code",
   "execution_count": 20,
   "id": "62e7fee9",
   "metadata": {},
   "outputs": [
    {
     "data": {
      "text/plain": [
       "array(['Meal Plan 1', 'Not Selected', 'Meal Plan 2', 'Meal Plan 3'],\n",
       "      dtype=object)"
      ]
     },
     "execution_count": 20,
     "metadata": {},
     "output_type": "execute_result"
    }
   ],
   "source": [
    "df['type_of_meal_plan'].unique()"
   ]
  },
  {
   "cell_type": "code",
   "execution_count": 21,
   "id": "8451d9d3",
   "metadata": {},
   "outputs": [],
   "source": [
    "mapping = {\n",
    "    'Not Selected': 0,\n",
    "    'Meal Plan 1': 1,\n",
    "    'Meal Plan 2': 2,\n",
    "    'Meal Plan 3': 3\n",
    "}\n",
    "\n",
    "df['type_of_meal_plan'] = df['type_of_meal_plan'].map(mapping)"
   ]
  },
  {
   "cell_type": "markdown",
   "id": "0352752c",
   "metadata": {},
   "source": [
    "kolom 'type_of_meal_plan' adalah categorical, dimana kita mau mapping menjadi tipe numerical, maka kita kita bisa mapping menjadi numerical"
   ]
  },
  {
   "cell_type": "code",
   "execution_count": 22,
   "id": "899a3056",
   "metadata": {},
   "outputs": [
    {
     "data": {
      "text/plain": [
       "array([1, 0, 2, 3])"
      ]
     },
     "execution_count": 22,
     "metadata": {},
     "output_type": "execute_result"
    }
   ],
   "source": [
    "df['type_of_meal_plan'].unique()"
   ]
  },
  {
   "cell_type": "code",
   "execution_count": 41,
   "id": "6e996952",
   "metadata": {},
   "outputs": [],
   "source": [
    "meal_plan_mapping = {\n",
    "    'Not Selected': 0,\n",
    "    'Meal Plan 1': 1,\n",
    "    'Meal Plan 2': 2,\n",
    "    'Meal Plan 3': 3\n",
    "}\n",
    "\n",
    "with open('meal_plan_mapping.pkl', 'wb') as f:\n",
    "    pickle.dump(meal_plan_mapping, f)"
   ]
  },
  {
   "cell_type": "markdown",
   "id": "04237c91",
   "metadata": {},
   "source": [
    "##### b. room_type_reserved"
   ]
  },
  {
   "cell_type": "code",
   "execution_count": 23,
   "id": "3e4a60d2",
   "metadata": {},
   "outputs": [
    {
     "data": {
      "text/plain": [
       "array(['Room_Type 1', 'Room_Type 4', 'Room_Type 2', 'Room_Type 6',\n",
       "       'Room_Type 5', 'Room_Type 7', 'Room_Type 3'], dtype=object)"
      ]
     },
     "execution_count": 23,
     "metadata": {},
     "output_type": "execute_result"
    }
   ],
   "source": [
    "df['room_type_reserved'].unique()"
   ]
  },
  {
   "cell_type": "code",
   "execution_count": 24,
   "id": "1c666d33",
   "metadata": {},
   "outputs": [],
   "source": [
    "mapping = {\n",
    "    'Room_Type 1': 1,\n",
    "    'Room_Type 2': 2,\n",
    "    'Room_Type 3': 3,\n",
    "    'Room_Type 4': 4,\n",
    "    'Room_Type 5': 5,\n",
    "    'Room_Type 6': 6,\n",
    "    'Room_Type 7': 7\n",
    "}\n",
    "\n",
    "df['room_type_reserved'] = df['room_type_reserved'].map(mapping)"
   ]
  },
  {
   "cell_type": "code",
   "execution_count": 25,
   "id": "4cd36527",
   "metadata": {},
   "outputs": [
    {
     "data": {
      "text/plain": [
       "array([1, 4, 2, 6, 5, 7, 3])"
      ]
     },
     "execution_count": 25,
     "metadata": {},
     "output_type": "execute_result"
    }
   ],
   "source": [
    "df['room_type_reserved'].unique()"
   ]
  },
  {
   "cell_type": "code",
   "execution_count": 42,
   "id": "fe37b3f2",
   "metadata": {},
   "outputs": [],
   "source": [
    "room_type_mapping = {\n",
    "    'Room_Type 1': 1,\n",
    "    'Room_Type 2': 2,\n",
    "    'Room_Type 3': 3,\n",
    "    'Room_Type 4': 4,\n",
    "    'Room_Type 5': 5,\n",
    "    'Room_Type 6': 6,\n",
    "    'Room_Type 7': 7\n",
    "}\n",
    "\n",
    "with open('room_type_mapping.pkl', 'wb') as f:\n",
    "    pickle.dump(room_type_mapping, f)"
   ]
  },
  {
   "cell_type": "markdown",
   "id": "fc04dcc0",
   "metadata": {},
   "source": [
    "##### c. market_segment_type"
   ]
  },
  {
   "cell_type": "code",
   "execution_count": 26,
   "id": "00555b63",
   "metadata": {},
   "outputs": [
    {
     "data": {
      "text/plain": [
       "array(['Offline', 'Online', 'Corporate', 'Aviation', 'Complementary'],\n",
       "      dtype=object)"
      ]
     },
     "execution_count": 26,
     "metadata": {},
     "output_type": "execute_result"
    }
   ],
   "source": [
    "df['market_segment_type'].unique()"
   ]
  },
  {
   "cell_type": "code",
   "execution_count": 27,
   "id": "11dbe0ad",
   "metadata": {},
   "outputs": [],
   "source": [
    "mapping = {\n",
    "    'Offline': 1,\n",
    "    'Online': 2,\n",
    "    'Corporate': 3,\n",
    "    'Aviation': 4,\n",
    "    'Complementary': 5,\n",
    "}\n",
    "\n",
    "df['market_segment_type'] = df['market_segment_type'].map(mapping)"
   ]
  },
  {
   "cell_type": "code",
   "execution_count": 28,
   "id": "a3ffbb37",
   "metadata": {},
   "outputs": [
    {
     "data": {
      "text/plain": [
       "array([1, 2, 3, 4, 5])"
      ]
     },
     "execution_count": 28,
     "metadata": {},
     "output_type": "execute_result"
    }
   ],
   "source": [
    "df['market_segment_type'].unique()"
   ]
  },
  {
   "cell_type": "code",
   "execution_count": 43,
   "id": "f00790fd",
   "metadata": {},
   "outputs": [],
   "source": [
    "market_segment_mapping = {\n",
    "    'Room_Type 1': 1,\n",
    "    'Room_Type 2': 2,\n",
    "    'Room_Type 3': 3,\n",
    "    'Room_Type 4': 4,\n",
    "    'Room_Type 5': 5,\n",
    "    'Room_Type 6': 6,\n",
    "    'Room_Type 7': 7\n",
    "}\n",
    "\n",
    "with open('market_segment_mapping.pkl', 'wb') as f:\n",
    "    pickle.dump(market_segment_mapping, f)"
   ]
  },
  {
   "cell_type": "markdown",
   "id": "f0ecf956",
   "metadata": {},
   "source": [
    "##### d. booking_status"
   ]
  },
  {
   "cell_type": "code",
   "execution_count": 29,
   "id": "77f293f1",
   "metadata": {},
   "outputs": [
    {
     "data": {
      "text/plain": [
       "array(['Not_Canceled', 'Canceled'], dtype=object)"
      ]
     },
     "execution_count": 29,
     "metadata": {},
     "output_type": "execute_result"
    }
   ],
   "source": [
    "df['booking_status'].unique()"
   ]
  },
  {
   "cell_type": "code",
   "execution_count": 30,
   "id": "d5cc5858",
   "metadata": {},
   "outputs": [],
   "source": [
    "mapping = {\n",
    "    'Canceled': 0,\n",
    "    'Not_Canceled': 1,\n",
    "}\n",
    "\n",
    "df['booking_status'] = df['booking_status'].map(mapping)"
   ]
  },
  {
   "cell_type": "code",
   "execution_count": 31,
   "id": "e3a2a23c",
   "metadata": {},
   "outputs": [
    {
     "data": {
      "text/plain": [
       "array([1, 0])"
      ]
     },
     "execution_count": 31,
     "metadata": {},
     "output_type": "execute_result"
    }
   ],
   "source": [
    "df['booking_status'].unique()"
   ]
  },
  {
   "cell_type": "code",
   "execution_count": 32,
   "id": "350dbe5f",
   "metadata": {},
   "outputs": [
    {
     "name": "stdout",
     "output_type": "stream",
     "text": [
      "<class 'pandas.core.frame.DataFrame'>\n",
      "RangeIndex: 36275 entries, 0 to 36274\n",
      "Data columns (total 19 columns):\n",
      " #   Column                                Non-Null Count  Dtype  \n",
      "---  ------                                --------------  -----  \n",
      " 0   Booking_ID                            36275 non-null  object \n",
      " 1   no_of_adults                          36275 non-null  float64\n",
      " 2   no_of_children                        36275 non-null  float64\n",
      " 3   no_of_weekend_nights                  36275 non-null  float64\n",
      " 4   no_of_week_nights                     36275 non-null  float64\n",
      " 5   type_of_meal_plan                     36275 non-null  int64  \n",
      " 6   required_car_parking_space            36275 non-null  float64\n",
      " 7   room_type_reserved                    36275 non-null  int64  \n",
      " 8   lead_time                             36275 non-null  float64\n",
      " 9   arrival_year                          36275 non-null  float64\n",
      " 10  arrival_month                         36275 non-null  float64\n",
      " 11  arrival_date                          36275 non-null  float64\n",
      " 12  market_segment_type                   36275 non-null  int64  \n",
      " 13  repeated_guest                        36275 non-null  float64\n",
      " 14  no_of_previous_cancellations          36275 non-null  float64\n",
      " 15  no_of_previous_bookings_not_canceled  36275 non-null  float64\n",
      " 16  avg_price_per_room                    36275 non-null  float64\n",
      " 17  no_of_special_requests                36275 non-null  float64\n",
      " 18  booking_status                        36275 non-null  int64  \n",
      "dtypes: float64(14), int64(4), object(1)\n",
      "memory usage: 5.3+ MB\n"
     ]
    }
   ],
   "source": [
    "df.info()"
   ]
  },
  {
   "cell_type": "markdown",
   "id": "9466c9da",
   "metadata": {},
   "source": [
    "Semua nilai dari column sudah bertipe numerical"
   ]
  },
  {
   "cell_type": "code",
   "execution_count": 33,
   "id": "a53dd7a1",
   "metadata": {},
   "outputs": [],
   "source": [
    "df = df.drop('Booking_ID', axis=1)"
   ]
  },
  {
   "cell_type": "markdown",
   "id": "fcdc1d92",
   "metadata": {},
   "source": [
    "Kita tidak membutuhkan 'Booking_ID', karena itu kita drop"
   ]
  },
  {
   "cell_type": "markdown",
   "id": "65a63f5c",
   "metadata": {},
   "source": [
    "## 1. Perbandingan Algoritma"
   ]
  },
  {
   "cell_type": "code",
   "execution_count": 34,
   "id": "870a1cb6",
   "metadata": {},
   "outputs": [],
   "source": [
    "X = df.drop(\"booking_status\", axis=1)  \n",
    "y = df[\"booking_status\"]\n",
    "\n",
    "X_train, X_test, y_train, y_test = train_test_split(\n",
    "    X, y, test_size=0.2, random_state=42\n",
    ")"
   ]
  },
  {
   "cell_type": "markdown",
   "id": "9f0b7d6c",
   "metadata": {},
   "source": [
    "Kita memilih 'booking_status' untuk memprediksi apakah seseorang akan membatalkan pesanannya atau tidak berdasarkan fitur fitur lain"
   ]
  },
  {
   "cell_type": "code",
   "execution_count": 35,
   "id": "83b0da7f",
   "metadata": {},
   "outputs": [
    {
     "name": "stderr",
     "output_type": "stream",
     "text": [
      "c:\\Users\\Nixon\\AppData\\Local\\Programs\\Python\\Python313\\Lib\\site-packages\\xgboost\\core.py:158: UserWarning: [22:50:12] WARNING: C:\\buildkite-agent\\builds\\buildkite-windows-cpu-autoscaling-group-i-0c55ff5f71b100e98-1\\xgboost\\xgboost-ci-windows\\src\\learner.cc:740: \n",
      "Parameters: { \"use_label_encoder\" } are not used.\n",
      "\n",
      "  warnings.warn(smsg, UserWarning)\n"
     ]
    }
   ],
   "source": [
    "rf_model = RandomForestClassifier(random_state=42)\n",
    "rf_model.fit(X_train, y_train)\n",
    "rf_pred = rf_model.predict(X_test)\n",
    "\n",
    "xgb_model = XGBClassifier(use_label_encoder=False, eval_metric='mlogloss', random_state=42)\n",
    "xgb_model.fit(X_train, y_train)\n",
    "xgb_pred = xgb_model.predict(X_test)"
   ]
  },
  {
   "cell_type": "code",
   "execution_count": 36,
   "id": "9015f502",
   "metadata": {},
   "outputs": [
    {
     "name": "stdout",
     "output_type": "stream",
     "text": [
      "Random Forest:\n",
      "Accuracy: 0.9025499655410062\n",
      "              precision    recall  f1-score   support\n",
      "\n",
      "           0       0.88      0.82      0.85      2416\n",
      "           1       0.91      0.94      0.93      4839\n",
      "\n",
      "    accuracy                           0.90      7255\n",
      "   macro avg       0.90      0.88      0.89      7255\n",
      "weighted avg       0.90      0.90      0.90      7255\n",
      "\n",
      "\n",
      "XGBoost:\n",
      "Accuracy: 0.8902825637491385\n",
      "              precision    recall  f1-score   support\n",
      "\n",
      "           0       0.86      0.80      0.83      2416\n",
      "           1       0.90      0.94      0.92      4839\n",
      "\n",
      "    accuracy                           0.89      7255\n",
      "   macro avg       0.88      0.87      0.87      7255\n",
      "weighted avg       0.89      0.89      0.89      7255\n",
      "\n",
      "Model terbaik: Random Forest\n"
     ]
    }
   ],
   "source": [
    "print(\"Random Forest:\")\n",
    "print(\"Accuracy:\", accuracy_score(y_test, rf_pred))\n",
    "print(classification_report(y_test, rf_pred))\n",
    "\n",
    "print(\"\\nXGBoost:\")\n",
    "print(\"Accuracy:\", accuracy_score(y_test, xgb_pred))\n",
    "print(classification_report(y_test, xgb_pred))\n",
    "\n",
    "if accuracy_score(y_test, rf_pred) > accuracy_score(y_test, xgb_pred):\n",
    "    best_model = rf_model\n",
    "    print(\"Model terbaik: Random Forest\")\n",
    "else:\n",
    "    best_model = xgb_model\n",
    "    print(\"Model terbaik: XGBoost\")"
   ]
  },
  {
   "cell_type": "markdown",
   "id": "507b1b6d",
   "metadata": {},
   "source": [
    "Dari accuracy yang ada, terlihat bahwa model yang akurasinya paling tinggi adalah RandomForest dengan akurasi sebesar 90%. Oleh karena itu kita memilih RandomForest sebagai model terbaik"
   ]
  },
  {
   "cell_type": "code",
   "execution_count": 37,
   "id": "bf9668a5",
   "metadata": {},
   "outputs": [],
   "source": [
    "with open(\"best_model.pkl\", \"wb\") as file:\n",
    "    pickle.dump(best_model, file)"
   ]
  },
  {
   "cell_type": "markdown",
   "id": "da0d2ed9",
   "metadata": {},
   "source": [
    "Karena model terbaik adalah RandomForest maka, kita menggunakan model itu untuk kita convert ke dalam .pkl"
   ]
  },
  {
   "cell_type": "markdown",
   "id": "9d742c52",
   "metadata": {},
   "source": [
    "### 2. Model Dalam OOP"
   ]
  },
  {
   "cell_type": "code",
   "execution_count": 38,
   "id": "a7add805",
   "metadata": {},
   "outputs": [
    {
     "name": "stdout",
     "output_type": "stream",
     "text": [
      "Accuracy: 0.9025499655410062\n",
      "Classification Report:\n",
      "              precision    recall  f1-score   support\n",
      "\n",
      "           0       0.88      0.82      0.85      2416\n",
      "           1       0.91      0.94      0.93      4839\n",
      "\n",
      "    accuracy                           0.90      7255\n",
      "   macro avg       0.90      0.88      0.89      7255\n",
      "weighted avg       0.90      0.90      0.90      7255\n",
      "\n"
     ]
    }
   ],
   "source": [
    "class MLModel:\n",
    "    def __init__(self, df, target_column):\n",
    "        self.df = df\n",
    "        self.target_column = target_column\n",
    "        self.model = None\n",
    "\n",
    "    def preProcessData(self):\n",
    "        self.X = self.df.drop(self.target_column, axis=1)\n",
    "        self.y = self.df[self.target_column]\n",
    "\n",
    "        self.X_train, self.X_test, self.y_train, self.y_test = train_test_split(\n",
    "            self.X, self.y, test_size=0.2, random_state=42\n",
    "        )\n",
    "\n",
    "    def trainModel(self):\n",
    "        self.model = RandomForestClassifier(random_state=42)\n",
    "        self.model.fit(self.X_train, self.y_train)\n",
    "\n",
    "    def evaluateModel(self):\n",
    "        y_pred = self.model.predict(self.X_test)\n",
    "\n",
    "        accuracy = accuracy_score(self.y_test, y_pred)\n",
    "        print(f'Accuracy: {accuracy}')\n",
    "        print('Classification Report:')\n",
    "        print(classification_report(self.y_test, y_pred))\n",
    "\n",
    "    def saveModel(self, model_filename='best_model.pkl'):\n",
    "        with open(model_filename, 'wb') as model_file:\n",
    "            pickle.dump(self.model, model_file)\n",
    "        \n",
    "if __name__ == '__main__':\n",
    "    ml_model = MLModel(df, 'booking_status')\n",
    "\n",
    "    ml_model.preProcessData()\n",
    "    ml_model.trainModel()\n",
    "\n",
    "    ml_model.evaluateModel()\n",
    "    ml_model.saveModel()"
   ]
  },
  {
   "cell_type": "markdown",
   "id": "73e68003",
   "metadata": {},
   "source": [
    "Karena kita sudah melakukan pre-processing data di dalam section EDA, kita bisa menggunakan data itu ke dalam Object ini"
   ]
  },
  {
   "cell_type": "markdown",
   "id": "cc879a3e",
   "metadata": {},
   "source": [
    "### 3. Code Inference"
   ]
  },
  {
   "cell_type": "code",
   "execution_count": 40,
   "id": "e22d18d8",
   "metadata": {},
   "outputs": [],
   "source": [
    "df.to_csv('best_model.csv', index=False)"
   ]
  },
  {
   "cell_type": "markdown",
   "id": "6e2d867a",
   "metadata": {},
   "source": [
    "### 4. Stream Lit"
   ]
  },
  {
   "cell_type": "code",
   "execution_count": null,
   "id": "7d12af60",
   "metadata": {},
   "outputs": [
    {
     "name": "stderr",
     "output_type": "stream",
     "text": [
      "2025-04-19 22:50:14.468 WARNING streamlit.runtime.scriptrunner_utils.script_run_context: Thread 'MainThread': missing ScriptRunContext! This warning can be ignored when running in bare mode.\n",
      "2025-04-19 22:50:15.069 \n",
      "  \u001b[33m\u001b[1mWarning:\u001b[0m to view this Streamlit app on a browser, run it with the following\n",
      "  command:\n",
      "\n",
      "    streamlit run c:\\Users\\Nixon\\AppData\\Local\\Programs\\Python\\Python313\\Lib\\site-packages\\ipykernel_launcher.py [ARGUMENTS]\n",
      "2025-04-19 22:50:15.070 Thread 'MainThread': missing ScriptRunContext! This warning can be ignored when running in bare mode.\n",
      "2025-04-19 22:50:15.070 Thread 'MainThread': missing ScriptRunContext! This warning can be ignored when running in bare mode.\n",
      "2025-04-19 22:50:15.071 Thread 'MainThread': missing ScriptRunContext! This warning can be ignored when running in bare mode.\n",
      "2025-04-19 22:50:15.071 Thread 'MainThread': missing ScriptRunContext! This warning can be ignored when running in bare mode.\n",
      "2025-04-19 22:50:15.071 Thread 'MainThread': missing ScriptRunContext! This warning can be ignored when running in bare mode.\n",
      "2025-04-19 22:50:15.072 Thread 'MainThread': missing ScriptRunContext! This warning can be ignored when running in bare mode.\n",
      "2025-04-19 22:50:15.072 Thread 'MainThread': missing ScriptRunContext! This warning can be ignored when running in bare mode.\n",
      "2025-04-19 22:50:15.073 Session state does not function when running a script without `streamlit run`\n",
      "2025-04-19 22:50:15.073 Thread 'MainThread': missing ScriptRunContext! This warning can be ignored when running in bare mode.\n",
      "2025-04-19 22:50:15.073 Thread 'MainThread': missing ScriptRunContext! This warning can be ignored when running in bare mode.\n",
      "2025-04-19 22:50:15.074 Thread 'MainThread': missing ScriptRunContext! This warning can be ignored when running in bare mode.\n",
      "2025-04-19 22:50:15.074 Thread 'MainThread': missing ScriptRunContext! This warning can be ignored when running in bare mode.\n",
      "2025-04-19 22:50:15.074 Thread 'MainThread': missing ScriptRunContext! This warning can be ignored when running in bare mode.\n",
      "2025-04-19 22:50:15.074 Thread 'MainThread': missing ScriptRunContext! This warning can be ignored when running in bare mode.\n",
      "2025-04-19 22:50:15.075 Thread 'MainThread': missing ScriptRunContext! This warning can be ignored when running in bare mode.\n",
      "2025-04-19 22:50:15.075 Thread 'MainThread': missing ScriptRunContext! This warning can be ignored when running in bare mode.\n",
      "2025-04-19 22:50:15.075 Thread 'MainThread': missing ScriptRunContext! This warning can be ignored when running in bare mode.\n",
      "2025-04-19 22:50:15.076 Thread 'MainThread': missing ScriptRunContext! This warning can be ignored when running in bare mode.\n",
      "2025-04-19 22:50:15.076 Thread 'MainThread': missing ScriptRunContext! This warning can be ignored when running in bare mode.\n",
      "2025-04-19 22:50:15.076 Thread 'MainThread': missing ScriptRunContext! This warning can be ignored when running in bare mode.\n",
      "2025-04-19 22:50:15.077 Thread 'MainThread': missing ScriptRunContext! This warning can be ignored when running in bare mode.\n",
      "2025-04-19 22:50:15.077 Thread 'MainThread': missing ScriptRunContext! This warning can be ignored when running in bare mode.\n",
      "2025-04-19 22:50:15.077 Thread 'MainThread': missing ScriptRunContext! This warning can be ignored when running in bare mode.\n",
      "2025-04-19 22:50:15.077 Thread 'MainThread': missing ScriptRunContext! This warning can be ignored when running in bare mode.\n",
      "2025-04-19 22:50:15.078 Thread 'MainThread': missing ScriptRunContext! This warning can be ignored when running in bare mode.\n",
      "2025-04-19 22:50:15.078 Thread 'MainThread': missing ScriptRunContext! This warning can be ignored when running in bare mode.\n",
      "2025-04-19 22:50:15.080 Thread 'MainThread': missing ScriptRunContext! This warning can be ignored when running in bare mode.\n",
      "2025-04-19 22:50:15.080 Thread 'MainThread': missing ScriptRunContext! This warning can be ignored when running in bare mode.\n",
      "2025-04-19 22:50:15.080 Thread 'MainThread': missing ScriptRunContext! This warning can be ignored when running in bare mode.\n",
      "2025-04-19 22:50:15.081 Thread 'MainThread': missing ScriptRunContext! This warning can be ignored when running in bare mode.\n",
      "2025-04-19 22:50:15.081 Thread 'MainThread': missing ScriptRunContext! This warning can be ignored when running in bare mode.\n",
      "2025-04-19 22:50:15.081 Thread 'MainThread': missing ScriptRunContext! This warning can be ignored when running in bare mode.\n",
      "2025-04-19 22:50:15.082 Thread 'MainThread': missing ScriptRunContext! This warning can be ignored when running in bare mode.\n",
      "2025-04-19 22:50:15.082 Thread 'MainThread': missing ScriptRunContext! This warning can be ignored when running in bare mode.\n",
      "2025-04-19 22:50:15.082 Thread 'MainThread': missing ScriptRunContext! This warning can be ignored when running in bare mode.\n",
      "2025-04-19 22:50:15.083 Thread 'MainThread': missing ScriptRunContext! This warning can be ignored when running in bare mode.\n",
      "2025-04-19 22:50:15.083 Thread 'MainThread': missing ScriptRunContext! This warning can be ignored when running in bare mode.\n",
      "2025-04-19 22:50:15.083 Thread 'MainThread': missing ScriptRunContext! This warning can be ignored when running in bare mode.\n",
      "2025-04-19 22:50:15.083 Thread 'MainThread': missing ScriptRunContext! This warning can be ignored when running in bare mode.\n",
      "2025-04-19 22:50:15.084 Thread 'MainThread': missing ScriptRunContext! This warning can be ignored when running in bare mode.\n",
      "2025-04-19 22:50:15.084 Thread 'MainThread': missing ScriptRunContext! This warning can be ignored when running in bare mode.\n",
      "2025-04-19 22:50:15.084 Thread 'MainThread': missing ScriptRunContext! This warning can be ignored when running in bare mode.\n",
      "2025-04-19 22:50:15.084 Thread 'MainThread': missing ScriptRunContext! This warning can be ignored when running in bare mode.\n",
      "2025-04-19 22:50:15.085 Thread 'MainThread': missing ScriptRunContext! This warning can be ignored when running in bare mode.\n",
      "2025-04-19 22:50:15.085 Thread 'MainThread': missing ScriptRunContext! This warning can be ignored when running in bare mode.\n",
      "2025-04-19 22:50:15.085 Thread 'MainThread': missing ScriptRunContext! This warning can be ignored when running in bare mode.\n",
      "2025-04-19 22:50:15.086 Thread 'MainThread': missing ScriptRunContext! This warning can be ignored when running in bare mode.\n",
      "2025-04-19 22:50:15.086 Thread 'MainThread': missing ScriptRunContext! This warning can be ignored when running in bare mode.\n",
      "2025-04-19 22:50:15.086 Thread 'MainThread': missing ScriptRunContext! This warning can be ignored when running in bare mode.\n",
      "2025-04-19 22:50:15.087 Thread 'MainThread': missing ScriptRunContext! This warning can be ignored when running in bare mode.\n",
      "2025-04-19 22:50:15.087 Thread 'MainThread': missing ScriptRunContext! This warning can be ignored when running in bare mode.\n"
     ]
    }
   ],
   "source": []
  },
  {
   "cell_type": "code",
   "execution_count": null,
   "id": "473184e2",
   "metadata": {},
   "outputs": [],
   "source": []
  }
 ],
 "metadata": {
  "kernelspec": {
   "display_name": "Python 3",
   "language": "python",
   "name": "python3"
  },
  "language_info": {
   "codemirror_mode": {
    "name": "ipython",
    "version": 3
   },
   "file_extension": ".py",
   "mimetype": "text/x-python",
   "name": "python",
   "nbconvert_exporter": "python",
   "pygments_lexer": "ipython3",
   "version": "3.13.0"
  }
 },
 "nbformat": 4,
 "nbformat_minor": 5
}
